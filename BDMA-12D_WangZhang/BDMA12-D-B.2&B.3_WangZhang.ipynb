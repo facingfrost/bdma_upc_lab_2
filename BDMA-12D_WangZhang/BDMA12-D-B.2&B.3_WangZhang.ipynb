{
  "cells": [
    {
      "cell_type": "code",
      "execution_count": 2,
      "metadata": {
        "colab": {
          "base_uri": "https://localhost:8080/"
        },
        "id": "I7rBfJWktCmb",
        "outputId": "e3961caf-0ecc-43a3-94fb-76edb89b34c6"
      },
      "outputs": [
        {
          "name": "stdout",
          "output_type": "stream",
          "text": [
            "Collecting rdflib\n",
            "  Downloading rdflib-7.0.0-py3-none-any.whl (531 kB)\n",
            "\u001b[2K     \u001b[90m━━━━━━━━━━━━━━━━━━━━━━━━━━━━━━━━━━━━━━━━\u001b[0m \u001b[32m531.9/531.9 kB\u001b[0m \u001b[31m4.2 MB/s\u001b[0m eta \u001b[36m0:00:00\u001b[0m\n",
            "\u001b[?25hCollecting isodate<0.7.0,>=0.6.0 (from rdflib)\n",
            "  Downloading isodate-0.6.1-py2.py3-none-any.whl (41 kB)\n",
            "\u001b[2K     \u001b[90m━━━━━━━━━━━━━━━━━━━━━━━━━━━━━━━━━━━━━━━━\u001b[0m \u001b[32m41.7/41.7 kB\u001b[0m \u001b[31m4.9 MB/s\u001b[0m eta \u001b[36m0:00:00\u001b[0m\n",
            "\u001b[?25hRequirement already satisfied: pyparsing<4,>=2.1.0 in /usr/local/lib/python3.10/dist-packages (from rdflib) (3.1.2)\n",
            "Requirement already satisfied: six in /usr/local/lib/python3.10/dist-packages (from isodate<0.7.0,>=0.6.0->rdflib) (1.16.0)\n",
            "Installing collected packages: isodate, rdflib\n",
            "Successfully installed isodate-0.6.1 rdflib-7.0.0\n"
          ]
        }
      ],
      "source": [
        "!pip install rdflib"
      ]
    },
    {
      "cell_type": "code",
      "execution_count": 3,
      "metadata": {
        "id": "YYL8xwPeroch"
      },
      "outputs": [],
      "source": [
        "from rdflib import Graph, URIRef, Literal, Namespace\n",
        "from rdflib.namespace import RDF, XSD\n",
        "import urllib.parse\n",
        "import csv"
      ]
    },
    {
      "cell_type": "code",
      "execution_count": 4,
      "metadata": {
        "id": "WxKxX16WssjA"
      },
      "outputs": [],
      "source": [
        "# create rdf graph and namespace\n",
        "abox_graph = Graph()\n",
        "EX = Namespace(\"http://www.gra.fo/resource/\")\n",
        "abox_graph.bind(\"gf\", EX)"
      ]
    },
    {
      "cell_type": "code",
      "execution_count": 5,
      "metadata": {
        "colab": {
          "base_uri": "https://localhost:8080/"
        },
        "id": "ZaE-vn9bsnax",
        "outputId": "a6ad3adb-04e7-49e0-e22b-83c6696de5e2"
      },
      "outputs": [
        {
          "name": "stdout",
          "output_type": "stream",
          "text": [
            "Mounted at /content/drive\n"
          ]
        }
      ],
      "source": [
        "from google.colab import drive\n",
        "drive.mount('/content/drive')"
      ]
    },
    {
      "cell_type": "code",
      "execution_count": 7,
      "metadata": {
        "id": "ZyWhGfpntVtj"
      },
      "outputs": [],
      "source": [
        "# paper.csv\n",
        "csv_data = []\n",
        "with open(\"/content/UPC/BDM/Data/paper.csv\", newline='') as csvfile:\n",
        "    reader = csv.DictReader(csvfile)\n",
        "    for row in reader:\n",
        "        csv_data.append(row)\n",
        "\n",
        "for row in csv_data:\n",
        "    # paper_type\n",
        "    paper_url = URIRef(EX[row[\"DOI\"]])\n",
        "    paper_type = URIRef(\"http://www.gra.fo/schema/untitled-ekg#Paper\")\n",
        "    abox_graph.add((paper_url, RDF.type, paper_type))\n",
        "    # paper_title\n",
        "    paper_title = URIRef(urllib.parse.quote(row[\"title\"]))\n",
        "    paper_title_type = URIRef(\"http://www.gra.fo/schema/untitled-ekg#title\")\n",
        "    abox_graph.add((paper_url, paper_title_type, paper_title))\n",
        "    # paper_abstract\n",
        "    paper_abstract = URIRef(urllib.parse.quote(row[\"abstract\"]))\n",
        "    paper_abstract_type = URIRef(\"http://www.gra.fo/schema/untitled-ekg#abstract\")\n",
        "    abox_graph.add((paper_url, paper_abstract_type, paper_abstract))\n"
      ]
    },
    {
      "cell_type": "code",
      "execution_count": 9,
      "metadata": {
        "id": "5MPZZ9wUuf26"
      },
      "outputs": [],
      "source": [
        "# paper_cite_paper.csv\n",
        "csv_data = []\n",
        "with open(\"/content/UPC/BDM/Data/paper_cite_paper.csv\", newline='') as csvfile:\n",
        "    reader = csv.DictReader(csvfile)\n",
        "    for row in reader:\n",
        "        csv_data.append(row)\n",
        "\n",
        "for row in csv_data:\n",
        "    paper_1 = URIRef(EX[row[\"start_id\"]])\n",
        "    paper_2 = URIRef(EX[row[\"end_id\"]])\n",
        "    cites = URIRef(\"http://www.gra.fo/schema/untitled-ekg#cites\")\n",
        "    abox_graph.add((paper_1, cites, paper_2))\n"
      ]
    },
    {
      "cell_type": "code",
      "execution_count": 10,
      "metadata": {
        "id": "p87XNYpNuxqA"
      },
      "outputs": [],
      "source": [
        "# authors.csv\n",
        "csv_data = []\n",
        "with open(\"/content/UPC/BDM/Data/authors.csv\", newline='') as csvfile:\n",
        "    reader = csv.DictReader(csvfile)\n",
        "    for row in reader:\n",
        "        csv_data.append(row)\n",
        "\n",
        "for row in csv_data:\n",
        "    # author_type\n",
        "    author_uri = URIRef(EX[row[\"author_id\"]])\n",
        "    author_type = URIRef(\"http://www.gra.fo/schema/untitled-ekg#Author\")\n",
        "    abox_graph.add((author_uri, RDF.type, author_type))\n",
        "    # author_name\n",
        "    author_name = URIRef(urllib.parse.quote(row[\"author_name\"]))\n",
        "    author_name_type = URIRef(\"http://www.gra.fo/schema/untitled-ekg#author_name\")\n",
        "    abox_graph.add((author_uri, author_name_type, author_name))\n",
        "    # author_id\n",
        "    author_id = URIRef(row[\"author_id\"])\n",
        "    author_id_type = URIRef(\"http://www.gra.fo/schema/untitled-ekg#author_id\")\n",
        "    abox_graph.add((author_uri, author_id_type, author_id))\n",
        "    # author_affiliation\n",
        "    author_aff = URIRef(urllib.parse.quote(row[\"author_affiliation\"]))\n",
        "    author_aff_type = URIRef(\"http://www.gra.fo/schema/untitled-ekg#author_affiliation\")\n",
        "    abox_graph.add((author_uri, author_aff_type, author_aff))\n"
      ]
    },
    {
      "cell_type": "code",
      "execution_count": 11,
      "metadata": {
        "id": "VG-vwjS9u6cu"
      },
      "outputs": [],
      "source": [
        "# conference_detail.csv\n",
        "csv_data = []\n",
        "with open(\"/content/UPC/BDM/Data/conference_detail.csv\", newline='') as csvfile:\n",
        "    reader = csv.DictReader(csvfile)\n",
        "    for row in reader:\n",
        "        csv_data.append(row)\n",
        "\n",
        "for row in csv_data:\n",
        "    # conference_type\n",
        "    conference_name = URIRef(EX[urllib.parse.quote(\"{} {} {}\".format(row[\"name\"], row[\"year\"], row[\"city\"]))])\n",
        "    conference_type = URIRef(\"http://www.gra.fo/schema/untitled-ekg#Conference\")\n",
        "    abox_graph.add((conference_name, RDF.type, conference_type))\n",
        "    # conference_proceeding_type\n",
        "    proceeding_name = URIRef(EX[urllib.parse.quote(row[\"proceeding_name\"])])\n",
        "    proceeding_type = URIRef(\"http://www.gra.fo/schema/untitled-ekg#Proceeding_conference\")\n",
        "    abox_graph.add((proceeding_name, RDF.type, proceeding_type))\n",
        "    # collection_of_conference\n",
        "    collection_of_conference = URIRef(\"http://www.gra.fo/schema/untitled-ekg#collection_of_conference\")\n",
        "    abox_graph.add((proceeding_name, collection_of_conference, conference_name))\n"
      ]
    },
    {
      "cell_type": "code",
      "execution_count": 12,
      "metadata": {
        "id": "WfNVJHgvu_lH"
      },
      "outputs": [],
      "source": [
        "# paper_presented_conf_proceeding.csv\n",
        "csv_data = []\n",
        "with open(\"/content/UPC/BDM/Data/paper_presented_in_conf_proceeding.csv\", newline='') as csvfile:\n",
        "    reader = csv.DictReader(csvfile)\n",
        "    for row in reader:\n",
        "        csv_data.append(row)\n",
        "\n",
        "for row in csv_data:\n",
        "    paper_url = URIRef(EX[row[\"start_id\"]])\n",
        "    proceeding_url = URIRef(EX[urllib.parse.quote(row[\"end_id\"])])\n",
        "    pub_in_proceeding = URIRef(\"http://www.gra.fo/schema/untitled-ekg#published_in_proceeding\")\n",
        "    abox_graph.add((paper_url, pub_in_proceeding, proceeding_url))\n"
      ]
    },
    {
      "cell_type": "code",
      "execution_count": 14,
      "metadata": {
        "id": "N-ezBN9LvKoG"
      },
      "outputs": [],
      "source": [
        "# journal.csv\n",
        "csv_data = []\n",
        "with open(\"/content/UPC/BDM/Data/journal.csv\", newline='') as csvfile:\n",
        "    reader = csv.DictReader(csvfile)\n",
        "    for row in reader:\n",
        "        csv_data.append(row)\n",
        "for row in csv_data:\n",
        "    # journal_type\n",
        "    journal_url = URIRef(EX[urllib.parse.quote(row[\"journal_name\"])])\n",
        "    journal_type = URIRef(\"http://www.gra.fo/schema/untitled-ekg#Journal\")\n",
        "    abox_graph.add((journal_url, RDF.type, journal_type))\n"
      ]
    },
    {
      "cell_type": "code",
      "execution_count": 15,
      "metadata": {
        "id": "59Z1O87qvVLq"
      },
      "outputs": [],
      "source": [
        "# paper_belong_to_journal.csv\n",
        "csv_data = []\n",
        "with open(\"/content/UPC/BDM/Data/paper_belong_to_journal.csv\", newline='') as csvfile:\n",
        "    reader = csv.DictReader(csvfile)\n",
        "    for row in reader:\n",
        "        csv_data.append(row)\n",
        "\n",
        "for row in csv_data:\n",
        "    paper_url = URIRef(EX[row[\"start_id\"]])\n",
        "    journal_url = URIRef(EX[urllib.parse.quote(row[\"end_id\"])])\n",
        "    belong_journal = URIRef(\"http://www.gra.fo/schema/untitled-ekg#paper_belong_to_journal\")\n",
        "    abox_graph.add((paper_url, belong_journal, journal_url))\n"
      ]
    },
    {
      "cell_type": "code",
      "execution_count": 16,
      "metadata": {
        "id": "jUTBZ4hLviZx"
      },
      "outputs": [],
      "source": [
        "# keyword.csv\n",
        "csv_data = []\n",
        "with open(\"/content/UPC/BDM/Data/keywords.csv\", newline='') as csvfile:\n",
        "    reader = csv.DictReader(csvfile)\n",
        "    for row in reader:\n",
        "        csv_data.append(row)\n",
        "\n",
        "for row in csv_data:\n",
        "    keyword_url = URIRef(EX[urllib.parse.quote(row[\"keywords\"])])\n",
        "    keyword_type = URIRef(\"http://www.gra.fo/schema/untitled-ekg#Keywords\")\n",
        "    abox_graph.add((keyword_url, RDF.type, keyword_type))\n"
      ]
    },
    {
      "cell_type": "code",
      "execution_count": 17,
      "metadata": {
        "id": "Dli7NHICvjI3"
      },
      "outputs": [],
      "source": [
        "# paper_has_keywords.csv\n",
        "csv_data = []\n",
        "with open(\"/content/UPC/BDM/Data/paper_has_keywords.csv\", newline='') as csvfile:\n",
        "    reader = csv.DictReader(csvfile)\n",
        "    for row in reader:\n",
        "        csv_data.append(row)\n",
        "\n",
        "for row in csv_data:\n",
        "    paper_url = URIRef(EX[row[\"paper_id\"]])\n",
        "    keyword_url = URIRef(EX[urllib.parse.quote(row[\"keywords\"])])\n",
        "    has_keyword = URIRef(\"http://www.gra.fo/schema/untitled-ekg#has_keyword\")\n",
        "    abox_graph.add((paper_url, has_keyword, keyword_url))\n"
      ]
    },
    {
      "cell_type": "code",
      "execution_count": 18,
      "metadata": {
        "id": "Q8qcGpvYvmpo"
      },
      "outputs": [],
      "source": [
        "# author_write.csv\n",
        "csv_data = []\n",
        "with open(\"/content/UPC/BDM/Data/author_write.csv\", newline='') as csvfile:\n",
        "    reader = csv.DictReader(csvfile)\n",
        "    for row in reader:\n",
        "        csv_data.append(row)\n",
        "\n",
        "for row in csv_data:\n",
        "    author_url = URIRef(EX[row[\"author_id\"]])\n",
        "    paper_url = URIRef(EX[row[\"paper_id\"]])\n",
        "    written_by = URIRef(\"http://www.gra.fo/schema/untitled-ekg#written_by\")\n",
        "    abox_graph.add((paper_url, written_by, author_url))\n"
      ]
    },
    {
      "cell_type": "code",
      "execution_count": 19,
      "metadata": {
        "id": "5mJj0h74vrWW"
      },
      "outputs": [],
      "source": [
        "# author_review.csv\n",
        "csv_data = []\n",
        "with open(\"/content/UPC/BDM/Data/author_review.csv\", newline='') as csvfile:\n",
        "    reader = csv.DictReader(csvfile)\n",
        "    for row in reader:\n",
        "        csv_data.append(row)\n",
        "\n",
        "for row in csv_data:\n",
        "    # reviewer_type\n",
        "    reviewer_url = URIRef(EX[row[\"reviewer_id\"]])\n",
        "    reviewer_type = URIRef(\"http://www.gra.fo/schema/untitled-ekg#Reviewer\")\n",
        "    abox_graph.add((reviewer_url, RDF.type, reviewer_type))\n",
        "    # reviewed_by\n",
        "    reviewed_paper_url = URIRef(EX[row[\"paper_id\"]])\n",
        "    reviewed_by = URIRef(\"http://www.gra.fo/schema/untitled-ekg#reviewed_by\")\n",
        "    abox_graph.add((reviewed_paper_url, reviewed_by, reviewer_url))\n"
      ]
    },
    {
      "cell_type": "code",
      "execution_count": 20,
      "metadata": {
        "colab": {
          "base_uri": "https://localhost:8080/"
        },
        "id": "BvDzaSV3vu8T",
        "outputId": "ec62e5fe-f2d4-4da6-ee35-55cdcc228134"
      },
      "outputs": [
        {
          "data": {
            "text/plain": [
              "<Graph identifier=Nd84f22791fcc4003b56535772ce84bf5 (<class 'rdflib.graph.Graph'>)>"
            ]
          },
          "execution_count": 20,
          "metadata": {},
          "output_type": "execute_result"
        }
      ],
      "source": [
        "# output turtle format\n",
        "abox_graph.serialize(\"abox.ttl\", format=\"turtle\")"
      ]
    }
  ],
  "metadata": {
    "colab": {
      "provenance": []
    },
    "kernelspec": {
      "display_name": "Python 3",
      "name": "python3"
    },
    "language_info": {
      "name": "python"
    }
  },
  "nbformat": 4,
  "nbformat_minor": 0
}
