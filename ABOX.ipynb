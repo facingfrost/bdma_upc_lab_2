{
 "cells": [
  {
   "cell_type": "code",
   "execution_count": 75,
   "metadata": {},
   "outputs": [],
   "source": [
    "from rdflib import Graph, URIRef, Literal, Namespace\n",
    "from rdflib.namespace import RDF, XSD\n",
    "import urllib.parse\n",
    "import csv\n",
    "\n",
    "abox_graph = Graph()\n",
    "EX = Namespace(\"http://www.gra.fo/resource/\")\n",
    "abox_graph.bind(\"gf\", EX)"
   ]
  },
  {
   "cell_type": "code",
   "execution_count": 76,
   "metadata": {},
   "outputs": [],
   "source": [
    "# paper.csv\n",
    "csv_data = []\n",
    "with open(\"data/paper.csv\", newline='') as csvfile:\n",
    "    reader = csv.DictReader(csvfile)\n",
    "    for row in reader:\n",
    "        csv_data.append(row)\n",
    "\n",
    "for row in csv_data:\n",
    "    # paper_type\n",
    "    paper_url = URIRef(EX[row[\"DOI\"]])\n",
    "    paper_type = URIRef(\"http://www.gra.fo/schema/untitled-ekg#Paper\")\n",
    "    abox_graph.add((paper_url, RDF.type, paper_type))\n",
    "    # paper_title\n",
    "    paper_title = URIRef(urllib.parse.quote(row[\"title\"]))\n",
    "    paper_title_type = URIRef(\"http://www.gra.fo/schema/untitled-ekg#title\")\n",
    "    abox_graph.add((paper_url, paper_title_type, paper_title))\n",
    "    # paper_abstract\n",
    "    paper_abstract = URIRef(urllib.parse.quote(row[\"abstract\"]))\n",
    "    paper_abstract_type = URIRef(\"http://www.gra.fo/schema/untitled-ekg#abstract\")\n",
    "    abox_graph.add((paper_url, paper_abstract_type, paper_abstract))\n",
    "    # "
   ]
  },
  {
   "cell_type": "code",
   "execution_count": 77,
   "metadata": {},
   "outputs": [],
   "source": [
    "# paper_cite_paper.csv\n",
    "csv_data = []\n",
    "with open(\"data/paper_cite_paper.csv\", newline='') as csvfile:\n",
    "    reader = csv.DictReader(csvfile)\n",
    "    for row in reader:\n",
    "        csv_data.append(row)\n",
    "\n",
    "for row in csv_data:\n",
    "    paper_1 = URIRef(EX[row[\"start_id\"]])\n",
    "    paper_2 = URIRef(EX[[\"end_id\"]])\n",
    "    cites = URIRef(\"http://www.gra.fo/schema/untitled-ekg#cites\")\n",
    "    abox_graph.add((paper_1, cites, paper_2))"
   ]
  },
  {
   "cell_type": "code",
   "execution_count": 78,
   "metadata": {},
   "outputs": [],
   "source": [
    "# authors.csv\n",
    "csv_data = []\n",
    "with open(\"data/authors.csv\", newline='') as csvfile:\n",
    "    reader = csv.DictReader(csvfile)\n",
    "    for row in reader:\n",
    "        csv_data.append(row)\n",
    "\n",
    "for row in csv_data:\n",
    "    # author_type\n",
    "    author_uri = URIRef(EX[row[\"author_id\"]])\n",
    "    author_type = URIRef(\"http://www.gra.fo/schema/untitled-ekg#Author\")\n",
    "    abox_graph.add((author_uri, RDF.type, author_type))\n",
    "    # author_name\n",
    "    author_name = URIRef(urllib.parse.quote(row[\"author_name\"]))\n",
    "    author_name_type = URIRef(\"http://www.gra.fo/schema/untitled-ekg#author_name\")\n",
    "    abox_graph.add((author_uri, author_name_type, author_name))\n",
    "    # author_id\n",
    "    author_id = URIRef(row[\"author_id\"])\n",
    "    author_id_type = URIRef(\"http://www.gra.fo/schema/untitled-ekg#author_id\")\n",
    "    abox_graph.add((author_uri, author_id_type, author_id))\n",
    "    # author_affiliation\n",
    "    author_aff = URIRef(urllib.parse.quote(row[\"author_affiliation\"]))\n",
    "    author_aff_type = URIRef(\"http://www.gra.fo/schema/untitled-ekg#author_affiliation\")\n",
    "    abox_graph.add((author_uri, author_aff_type, author_aff))"
   ]
  },
  {
   "cell_type": "code",
   "execution_count": 79,
   "metadata": {},
   "outputs": [],
   "source": [
    "# conference_detail.csv\n",
    "csv_data = []\n",
    "with open(\"data/conference_detail.csv\", newline='') as csvfile:\n",
    "    reader = csv.DictReader(csvfile)\n",
    "    for row in reader:\n",
    "        csv_data.append(row)\n",
    "\n",
    "for row in csv_data:\n",
    "    # conference_type\n",
    "    conference_name = URIRef(EX[urllib.parse.quote(\"{} {} {}\".format(row[\"name\"], row[\"year\"], row[\"city\"]))])\n",
    "    conference_type = URIRef(\"http://www.gra.fo/schema/untitled-ekg#Conference\")\n",
    "    abox_graph.add((conference_name, RDF.type, conference_type))\n",
    "    # conference_proceeding_type\n",
    "    proceeding_name = URIRef(EX[urllib.parse.quote(row[\"proceeding_name\"])])\n",
    "    proceeding_type = URIRef(\"http://www.gra.fo/schema/untitled-ekg#Proceeding_conference\")\n",
    "    abox_graph.add((proceeding_name, RDF.type, proceeding_type))\n",
    "    # collection_of_conference\n",
    "    collection_of_conference = URIRef(\"http://www.gra.fo/schema/untitled-ekg#collection_of_conference\")\n",
    "    abox_graph.add((proceeding_name, collection_of_conference, conference_name))"
   ]
  },
  {
   "cell_type": "code",
   "execution_count": 80,
   "metadata": {},
   "outputs": [],
   "source": [
    "# paper_presented_conf_proceeding\n",
    "csv_data = []\n",
    "with open(\"data/paper_presented_in_conf_proceeding.csv\", newline='') as csvfile:\n",
    "    reader = csv.DictReader(csvfile)\n",
    "    for row in reader:\n",
    "        csv_data.append(row)\n",
    "\n",
    "for row in csv_data:\n",
    "    paper_url = URIRef(EX[row[\"start_id\"]])\n",
    "    proceeding_url = URIRef(EX[urllib.parse.quote(row[\"end_id\"])])\n",
    "    pub_in_proceeding = URIRef(\"http://www.gra.fo/schema/untitled-ekg#published_in_proceeding\")\n",
    "    abox_graph.add((paper_url, pub_in_proceeding, proceeding_url))"
   ]
  },
  {
   "cell_type": "code",
   "execution_count": 81,
   "metadata": {},
   "outputs": [],
   "source": [
    "# journal.csv\n",
    "csv_data = []\n",
    "with open(\"data/journal.csv\", newline='') as csvfile:\n",
    "    reader = csv.DictReader(csvfile)\n",
    "    for row in reader:\n",
    "        csv_data.append(row)\n",
    "\n",
    "for row in csv_data:\n",
    "    # journal_type\n",
    "    journal_url = URIRef(EX[urllib.parse.quote(row[\"journal_name\"])])\n",
    "    journal_type = URIRef(\"http://www.gra.fo/schema/untitled-ekg#Journal\")\n",
    "    abox_graph.add((journal_url, RDF.type, journal_type))"
   ]
  },
  {
   "cell_type": "code",
   "execution_count": 82,
   "metadata": {},
   "outputs": [],
   "source": [
    "# paper_belong_to_journal.csv\n",
    "csv_data = []\n",
    "with open(\"data/paper_belong_to_journal.csv\", newline='') as csvfile:\n",
    "    reader = csv.DictReader(csvfile)\n",
    "    for row in reader:\n",
    "        csv_data.append(row)\n",
    "\n",
    "for row in csv_data:\n",
    "    paper_url = URIRef(EX[row[\"start_id\"]])\n",
    "    journal_url = URIRef(EX[urllib.parse.quote(row[\"end_id\"])])\n",
    "    belong_journal = URIRef(\"http://www.gra.fo/schema/untitled-ekg#paper_belong_to_journal\")\n",
    "    abox_graph.add((paper_url, belong_journal, journal_url))"
   ]
  },
  {
   "cell_type": "code",
   "execution_count": 83,
   "metadata": {},
   "outputs": [],
   "source": [
    "# keyword.csv\n",
    "csv_data = []\n",
    "with open(\"data/keywords.csv\", newline='') as csvfile:\n",
    "    reader = csv.DictReader(csvfile)\n",
    "    for row in reader:\n",
    "        csv_data.append(row)\n",
    "\n",
    "for row in csv_data:\n",
    "    keyword_url = URIRef(EX[urllib.parse.quote(row[\"keywords\"])])\n",
    "    keyword_type = URIRef(\"http://www.gra.fo/schema/untitled-ekg#Keywords\")\n",
    "    abox_graph.add((keyword_url, RDF.type, keyword_type))"
   ]
  },
  {
   "cell_type": "code",
   "execution_count": 84,
   "metadata": {},
   "outputs": [],
   "source": [
    "# paper_has_keywords\n",
    "csv_data = []\n",
    "with open(\"data/paper_has_keywords.csv\", newline='') as csvfile:\n",
    "    reader = csv.DictReader(csvfile)\n",
    "    for row in reader:\n",
    "        csv_data.append(row)\n",
    "\n",
    "for row in csv_data:\n",
    "    paper_url = URIRef(EX[row[\"paper_id\"]])\n",
    "    keyword_url = URIRef(EX[urllib.parse.quote(row[\"keywords\"])])\n",
    "    has_keyword = URIRef(\"http://www.gra.fo/schema/untitled-ekg#has_keyword\")\n",
    "    abox_graph.add((paper_url, has_keyword, keyword_url))"
   ]
  },
  {
   "cell_type": "code",
   "execution_count": 85,
   "metadata": {},
   "outputs": [],
   "source": [
    "# author_write.csv\n",
    "csv_data = []\n",
    "with open(\"data/author_write.csv\", newline='') as csvfile:\n",
    "    reader = csv.DictReader(csvfile)\n",
    "    for row in reader:\n",
    "        csv_data.append(row)\n",
    "\n",
    "for row in csv_data:\n",
    "    author_url = URIRef(EX[row[\"author_id\"]])\n",
    "    paper_url = URIRef(EX[row[\"paper_id\"]])\n",
    "    written_by = URIRef(\"http://www.gra.fo/schema/untitled-ekg#written_by\")\n",
    "    abox_graph.add((paper_url, written_by, paper_url))"
   ]
  },
  {
   "cell_type": "code",
   "execution_count": 86,
   "metadata": {},
   "outputs": [],
   "source": [
    "# author_review.csv\n",
    "csv_data = []\n",
    "with open(\"data/author_review.csv\", newline='') as csvfile:\n",
    "    reader = csv.DictReader(csvfile)\n",
    "    for row in reader:\n",
    "        csv_data.append(row)\n",
    "\n",
    "for row in csv_data:\n",
    "    # reviewer_type\n",
    "    reviewer_url = URIRef(EX[row[\"reviewer_id\"]])\n",
    "    reviewer_type = URIRef(\"http://www.gra.fo/schema/untitled-ekg#Reviewer\")\n",
    "    abox_graph.add((reviewer_url, RDF.type, reviewer_type))\n",
    "    # reviewed_by\n",
    "    reviewed_paper_url = URIRef(EX[row[\"paper_id\"]])\n",
    "    reviewed_by = URIRef(\"http://www.gra.fo/schema/untitled-ekg#reviewed_by\")\n",
    "    abox_graph.add((reviewed_paper_url, reviewed_by, reviewer_url))"
   ]
  },
  {
   "cell_type": "code",
   "execution_count": 87,
   "metadata": {},
   "outputs": [
    {
     "data": {
      "text/plain": [
       "<Graph identifier=Nb4048a1c968941afa04cd4bbe0e6499a (<class 'rdflib.graph.Graph'>)>"
      ]
     },
     "execution_count": 87,
     "metadata": {},
     "output_type": "execute_result"
    }
   ],
   "source": [
    "abox_graph.serialize(\"abox.ttl\", format=\"turtle\")"
   ]
  }
 ],
 "metadata": {
  "kernelspec": {
   "display_name": "train_env",
   "language": "python",
   "name": "python3"
  },
  "language_info": {
   "codemirror_mode": {
    "name": "ipython",
    "version": 3
   },
   "file_extension": ".py",
   "mimetype": "text/x-python",
   "name": "python",
   "nbconvert_exporter": "python",
   "pygments_lexer": "ipython3",
   "version": "3.9.18"
  }
 },
 "nbformat": 4,
 "nbformat_minor": 2
}
